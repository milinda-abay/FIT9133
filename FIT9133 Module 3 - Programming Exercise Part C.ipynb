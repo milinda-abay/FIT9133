{
 "cells": [
  {
   "cell_type": "markdown",
   "metadata": {},
   "source": [
    "# FIT9133 Module 3: Programming Exercise Part C\n",
    "The questions that follows check your understanding of **Stacks** and **Queues**. You will be developing programs by using different stack and queue operations for solving computational problems.\n"
   ]
  },
  {
   "cell_type": "markdown",
   "metadata": {},
   "source": [
    "## Part 1: Stacks \n",
    "\n",
    "In solving arithmetic expressions, _parentheses_ guide us the way the expressions will be evaluated. For example: \n",
    "\n",
    "    (5 + 3) + ((6 - 9) / (5 + 7))\n",
    "    \n",
    "(6 - 9) and (5 + 7) need to be evaluated first before dividing the two expressions. (5 + 3) can be evaluated anytime.\n",
    "\n",
    "In order for this to work, parentheses must appear in a _balanced_ fashion. Balanced parentheses means that each opening symbol has a corresponding closing symbol and the pairs of parentheses are properly nested. Consider the following correctly balanced strings of parentheses:\n",
    "\n",
    "    ()()()()()\n",
    "    (()())\n",
    "    ((()))\n",
    "    \n",
    "Compare those above with the following, which are not balanced:\n",
    "\n",
    "    ((()\n",
    "    ()()()(()\n",
    "    ((()))(\n",
    "    \n",
    "The ability to differentiate between parentheses that are correctly balanced and those that are unbalanced is an important part of recognising many programming language structures."
   ]
  },
  {
   "cell_type": "markdown",
   "metadata": {},
   "source": [
    "### Task 1\n",
    "Based on the **Stack** ADT defined in the Alexandria notes, write a program that will read a string of parentheses from left to right and check whether the parentheses are balanced or not. Use the algorithm suggested in the Stack ADT module to build your program. (Test your program and make sure it is working correctly.) Although we implement this question in week 5, I hope that you can use Stack to solve this problem again.\n"
   ]
  },
  {
   "cell_type": "code",
   "execution_count": null,
   "metadata": {},
   "outputs": [],
   "source": [
    "# stack.py: implemenation of the Stack ADT using an array structure\n",
    "class Stack:\n",
    "    #implement your stack here"
   ]
  },
  {
   "cell_type": "code",
   "execution_count": null,
   "metadata": {},
   "outputs": [],
   "source": [
    "# import the Stack class here\n",
    "\n",
    "def check_for_balanced_parenthesis(string_of_parenthesis):\n",
    "    # Your solution goes here \n",
    "\n",
    "    \n",
    "#test your program\n"
   ]
  },
  {
   "cell_type": "markdown",
   "metadata": {},
   "source": [
    "### Task 2\n",
    "*Palindromes* are words, sentences or phrases that can be read the same way from either the backward or farward direction. For example \"A Santa at Nasa\" is a palindrome because it is the same sentence either you read it backward or forward. A list of palindromes has been given on this link: http://www.palindromelist.net/\n",
    "\n",
    "Your task is to write a program that will read in a string and will return True if the string is a palindrome; otherwise it will return False. Use stacks to develop your program (and make sure you test your program)."
   ]
  },
  {
   "cell_type": "code",
   "execution_count": null,
   "metadata": {},
   "outputs": [],
   "source": [
    "# import the Stack class here\n",
    "\n",
    "def is_palindrome(original_str):\n",
    "    # Your solution goes here\n",
    "    "
   ]
  },
  {
   "cell_type": "markdown",
   "metadata": {},
   "source": [
    "## Part 2: Queues\n",
    "\n",
    "### Task 1\n",
    "As discussed in the Alexandria notes, queues are used to schedule jobs such as scheduling jobs for a networked printer. In fact, queues are used at all places where there is one resource but with multiple users of that resource. In an environment where multiple agents are trying to solve a problem, some parts of the code become critical. \n",
    "\n",
    "A critical section of the code is where multiple agents together try to change the value of a shared variable and thus result in a wrong answer. Therefore, the critical section of the code should allow only one agent at a time to manipulate the variables. All other agents should wait. One way of achieving this is by implementing a queue.\n",
    "\n",
    "Based on the Queue ADT defined in Alexandria, write a class **Master** that controls the access of multiple agents in the critical section. The class will maintain a queue to keep track of agents waiting for the resource. It will have a **enter** function which will be used by agents to gain entry in the critical region and an **exit** function once they are exiting the critical region. \n",
    "\n",
    "Your program should line up the agents once they call the the enter function and removed them from the queue once they have called the exit function. All agents are associated with an identifier. For keeping the program simple, you can pass a unique agent identifier as a parameter.\n",
    "\n",
    "Note that there will be only one instance of Master object and all agents will use the same instance."
   ]
  },
  {
   "cell_type": "code",
   "execution_count": null,
   "metadata": {},
   "outputs": [],
   "source": [
    "class Queue:\n",
    "    #define your Queue here\n",
    "    "
   ]
  },
  {
   "cell_type": "code",
   "execution_count": null,
   "metadata": {},
   "outputs": [],
   "source": [
    "# import the Queue class here\n",
    "\n",
    "class Master:\n",
    "    # Your solution goes here\n",
    "    "
   ]
  },
  {
   "cell_type": "markdown",
   "metadata": {
    "collapsed": true
   },
   "source": [
    "### Task 2\n",
    "This exercise simulates a simple checkout counter. Each customer arrives after a random integer interval and is served in a random integer interval as well. For simplicity, we will keep the interval between 10 time units and the service time to 20 time units. If a customer arrives while another customer is being served that customer is placed in the queue; otherwise he/she is served. You are provided with a partial solution of the code. Comments have been added to help you with the program development. Complete the missing parts in the code below."
   ]
  },
  {
   "cell_type": "code",
   "execution_count": null,
   "metadata": {},
   "outputs": [],
   "source": [
    "# import the Queue class here\n",
    "\n",
    "# define variables for arrival time and service time (you may change these later if you want)\n",
    "customer_arrival_time = 10\n",
    "customer_service_time = 20\n",
    "\n",
    "# create a new queue\n",
    "\n",
    "\n",
    "# define variables to keep track of the current time and service time (initialise them to 0)\n",
    "\n",
    "\n",
    "# other required variables\n",
    "customer_id = 1\n",
    "\n",
    "# this variable controls the access of a customer in the service area\n",
    "# it should be turned to True when the customer needs to be served; it remains False otherwise\n",
    "lock = False\n",
    "\n",
    "# simulation will run for 60 time units (you may change it later if you want)\n",
    "for i in range(60):\n",
    "    # if the customer has not arrived... increment time unit by 1\n",
    "    if # <your check goes here>\n",
    "        # increment time based upon the variable\n",
    "        \n",
    "    # otherwise say that the customer with some unique ID has arrived \n",
    "    else:\n",
    "        print(\"The customer with id \" + str(customer_id) +\" has arrived\")\n",
    "        # reset the time counter\n",
    "        \n",
    "        # add customer to queue\n",
    "        \n",
    "        # change the customer ID\n",
    "        customer_id += 1 \n",
    "        # open the service area\n",
    "        lock = True\n",
    "    \n",
    "    # if the customer has been served\n",
    "    if # <your check goes here>\n",
    "        # remove customer from queue and print which customer was served\n",
    "        \n",
    "        print(\"The customer with id \" + str(cus) + \" has been served\")\n",
    "        # reset service time\n",
    "        \n",
    "        # lock the service area\n",
    "        \n",
    "    # otherwise increment service time \n",
    "    elif lock:\n",
    "        # increment time based upon the variable\n",
    "            "
   ]
  }
 ],
 "metadata": {
  "anaconda-cloud": {},
  "kernelspec": {
   "display_name": "Python 3",
   "language": "python",
   "name": "python3"
  },
  "language_info": {
   "codemirror_mode": {
    "name": "ipython",
    "version": 3
   },
   "file_extension": ".py",
   "mimetype": "text/x-python",
   "name": "python",
   "nbconvert_exporter": "python",
   "pygments_lexer": "ipython3",
   "version": "3.7.2"
  }
 },
 "nbformat": 4,
 "nbformat_minor": 1
}
