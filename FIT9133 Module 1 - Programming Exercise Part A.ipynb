{
 "cells": [
  {
   "cell_type": "markdown",
   "metadata": {},
   "source": [
    "# FIT9133 Module 1: Programming Exercise Part A\n",
    "\n",
    "This programming exercise will test your understanding of **arithmetic**, **relational** and **logical** constructs in Python. You will also be tested on basic **string operations** and **typecasting**."
   ]
  },
  {
   "cell_type": "markdown",
   "metadata": {},
   "source": [
    "## Part 1: Getting Started"
   ]
  },
  {
   "cell_type": "markdown",
   "metadata": {},
   "source": [
    "Statements can be printed in Python using the **print( )** function. Use this function or command to print the following:\n",
    "    1. \"My name is <your name>\"\n",
    "    2. \"It is 35 degrees outside\"\n",
    "    3. 85\n",
    "    4. \"85\"\n",
    "    5. 85.0\n",
    "    6. 3.5"
   ]
  },
  {
   "cell_type": "code",
   "execution_count": null,
   "metadata": {
    "collapsed": true
   },
   "outputs": [],
   "source": [
    "# Your solution goes here"
   ]
  },
  {
   "cell_type": "markdown",
   "metadata": {},
   "source": [
    "Data need to be stored before being used for computation. Programming languages provide **variables** to store data. \n",
    "    1. Define three variables a, b and c. \n",
    "    2. Initialise them with the values of 35, 46.5 and \"hello world\" respectively.\n",
    "    3. What is the data type of each variable?\n",
    "    4. Use the \"type\" function to find out the data type.\n",
    "    5. Can you tell the difference between (3) (4) and (5) in the previous task in Part 1?"
   ]
  },
  {
   "cell_type": "code",
   "execution_count": null,
   "metadata": {
    "collapsed": true
   },
   "outputs": [],
   "source": [
    "# Your solution goes here"
   ]
  },
  {
   "cell_type": "markdown",
   "metadata": {},
   "source": [
    "## Part 2: Arithmetic Operators"
   ]
  },
  {
   "cell_type": "markdown",
   "metadata": {},
   "source": [
    "Without running these commands, state the output of the following statements. \n",
    "(Assume that **a = 10**, **b = 5**, **c = 5.5**, **d = 3**)\n",
    "    1. a + 2 * b\n",
    "    2. b - 4 / a\n",
    "    3. a / b\n",
    "    4. a // b\n",
    "    5. 1 / 2\n",
    "    6. 1 // 2\n",
    "    7. 1 % 2\n",
    "    8. a ** d\n",
    "    9. a / b + 5 - 5.5 * c\n",
    "    10. a**2 + 2 - c // 5 * 2\n",
    "    11. (a + b) * 3 / d + (4 - d)\n",
    "    12. 2 * ( a * 2 / a)"
   ]
  },
  {
   "cell_type": "markdown",
   "metadata": {},
   "source": [
    "Now run the commands and print the output. \n",
    "What is the difference between (3) and (4)? What is the **operator precedence** in Python? "
   ]
  },
  {
   "cell_type": "code",
   "execution_count": null,
   "metadata": {
    "collapsed": true
   },
   "outputs": [],
   "source": [
    "# Your solution goes here"
   ]
  },
  {
   "cell_type": "markdown",
   "metadata": {},
   "source": [
    "## Part 3: String Operations and Typecasting"
   ]
  },
  {
   "cell_type": "markdown",
   "metadata": {},
   "source": [
    "1. Define two string variables and initialise them with \"abc\" and \"xyz\".\n",
    "2. Concatenate the two variables and store them in another variable.\n",
    "3. Determine the length of this variable using **len( )** function.\n",
    "4. Find the number of occurrence of the letter 'o' in \"OOOooofffforossseroO\" using **count( )** function. "
   ]
  },
  {
   "cell_type": "code",
   "execution_count": null,
   "metadata": {
    "collapsed": true
   },
   "outputs": [],
   "source": [
    "# Your solution goes here"
   ]
  },
  {
   "cell_type": "markdown",
   "metadata": {},
   "source": [
    "What is _wrong_ with the following block of code? Run this code to find out the error.\n",
    "\n",
    "    a = \"He got \"\n",
    "    b = 35\n",
    "    c = \"marks in the test\"\n",
    "    d = a + b + c\n",
    "    print(d)"
   ]
  },
  {
   "cell_type": "code",
   "execution_count": null,
   "metadata": {
    "collapsed": false
   },
   "outputs": [],
   "source": [
    "a = \"He got \"\n",
    "b = 35\n",
    "c = \" marks in the test\"\n",
    "d = a + b + c\n",
    "print(d)"
   ]
  },
  {
   "cell_type": "markdown",
   "metadata": {},
   "source": [
    "String operators can only work on variables of string type. Therefore all variables need to be converted to string before the operation can be applied to them. Variables can be converted from one type to another using _typecasting_. Anything can be typecasted to string by using the **str( )** operator. \n",
    "Now use this operator to fix the error above."
   ]
  },
  {
   "cell_type": "code",
   "execution_count": null,
   "metadata": {
    "collapsed": true
   },
   "outputs": [],
   "source": [
    "# Your solution goes here"
   ]
  },
  {
   "cell_type": "markdown",
   "metadata": {},
   "source": [
    "## Part 4: Relational and Logical Operators"
   ]
  },
  {
   "cell_type": "markdown",
   "metadata": {},
   "source": [
    "Without running these commands, state whether these statements would be **True** or **False**. \n",
    "    1. 12 > 13\n",
    "    2. 12 > 12\n",
    "    3. 12 >= 12\n",
    "    4. 12 < 12\n",
    "    5. 12 <= 12\n",
    "    6. 12 < 13\n",
    "    7. 12 == 12\n",
    "    8. 12.0 == 12\n",
    "    9. 13.5 >= 13\n",
    "    10. 23.4 > 22.8\n",
    "Now use the **print( )** function to see the output."
   ]
  },
  {
   "cell_type": "code",
   "execution_count": null,
   "metadata": {
    "collapsed": true
   },
   "outputs": [],
   "source": [
    "# Your solution goes here"
   ]
  },
  {
   "cell_type": "markdown",
   "metadata": {},
   "source": [
    "Again without running these commands state whether the statemnts are **True** or **False** and then run the commands to see the output.\n",
    "    1. 12 < 13 and 1 > 2\n",
    "    2. 12 < 13 or 1 > 2\n",
    "    3. 12 < 13 and 14 > 5 or 16 == 15\n",
    "    4. 12 < 13 and 14 > 5 and 16 == 15"
   ]
  },
  {
   "cell_type": "code",
   "execution_count": null,
   "metadata": {
    "collapsed": true
   },
   "outputs": [],
   "source": [
    "# Your solution goes here"
   ]
  },
  {
   "cell_type": "markdown",
   "metadata": {},
   "source": [
    "## Part 5: Help Function"
   ]
  },
  {
   "cell_type": "markdown",
   "metadata": {},
   "source": [
    "Many times we want to know how a function works or what are the parameters it takes. **help( )** function can retrieve the Python documentation for that specific function and show it on the terminal. Use this function to retrieve the documentation for the following built-in functions:\n",
    "    1. len\n",
    "    2. str\n",
    "    3. pow\n",
    "    4. list\n",
    "    5. dict\n",
    "    6. str.isdigit"
   ]
  },
  {
   "cell_type": "code",
   "execution_count": null,
   "metadata": {
    "collapsed": true
   },
   "outputs": [],
   "source": [
    "# Your solution goes here"
   ]
  },
  {
   "cell_type": "markdown",
   "metadata": {},
   "source": [
    "## Part 6: PyCharm Tutorial"
   ]
  },
  {
   "cell_type": "markdown",
   "metadata": {},
   "source": [
    "Apart from using Jupyter Notebook to write and run your Python programs, you should get yourself familiar with other Python IDEs (integrated development environments). To get started with the PyCharm IDE, click on this [link](https://www.jetbrains.com/help/pycharm/step-1-creating-and-running-your-first-python-project.html) and complete at least **Step 1** in the tutorial. (Don't worry too much at this stage if you don't understand some of the steps. Just ask your tutor for help).  "
   ]
  },
  {
   "cell_type": "markdown",
   "metadata": {},
   "source": [
    "Next, you should choose one of the tasks above (from Part 1 to Part 4) and by using PyCharm write and run the task as a Python program. Make sure you get at least of the tasks running before you leave the lab."
   ]
  }
 ],
 "metadata": {
  "anaconda-cloud": {},
  "kernelspec": {
   "display_name": "Python [default]",
   "language": "python",
   "name": "python3"
  },
  "language_info": {
   "codemirror_mode": {
    "name": "ipython",
    "version": 3
   },
   "file_extension": ".py",
   "mimetype": "text/x-python",
   "name": "python",
   "nbconvert_exporter": "python",
   "pygments_lexer": "ipython3",
   "version": "3.5.2"
  }
 },
 "nbformat": 4,
 "nbformat_minor": 0
}
