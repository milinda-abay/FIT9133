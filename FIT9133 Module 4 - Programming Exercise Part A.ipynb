{
 "cells": [
  {
   "cell_type": "markdown",
   "metadata": {},
   "source": [
    "# FIT9133 Module 4: Programming Exercise Part A\n",
    "In this first exercise for Module 4, you will get to explore further on **searching** and **sorting** algorithms."
   ]
  },
  {
   "cell_type": "markdown",
   "metadata": {},
   "source": [
    "## Part 1: Searching Algorithms"
   ]
  },
  {
   "cell_type": "markdown",
   "metadata": {},
   "source": [
    "The theory of **searching** is at the centre of database and data research. Searching allows for the _retrieval_ of useful data and for its organisation, most namely in the form of **sorting**. We start with searching because it leads directly to applications of sorting. \n",
    "\n",
    "The theory of basic searching is simple: **Linear Search** finds items by probing one item at a time in the order that they appear in the list until the desired element is found, or the end of the list is reached. The second search that was discussed is **Binary Search**, which suggests that if we probe for an item, we can know what we are looking for (if it exists) will be either the current item that we are looking at, or lies on the left or right of that item.\n",
    "\n",
    "It can be seen is that Linear Search is universal. If the element exists in the list being searched then it will be found, irrelevant of how the list is constructed. For Binary Search to work the list must be sorted. Starting at the centre (or close to the centre) of the list, the probing can be done with a more efficient procedure.\n",
    "\n",
    "However, the question that should be asked: *is it worth sorting the list to use Binary Search over Linear Search?*\n"
   ]
  },
  {
   "cell_type": "markdown",
   "metadata": {},
   "source": [
    "### Task 1"
   ]
  },
  {
   "cell_type": "markdown",
   "metadata": {},
   "source": [
    "Have a think and suggest which searching method you would use for the following scenarios.\n",
    "\n",
    "1. **Find 1 number from a sorted list of integers**\n",
    "2. **Gather all photos of a cat from many cat pictures**\n",
    "3. **Find all numbers greater than 5 from a list of unsorted integers**\n",
    "4. **Obtain the smallest number from a sorted list of integers**\n",
    "\n",
    "There are many possible answers, but arguments will suggest that one searching method is better than another depending on the scenario (and maybe that neither is an acceptable method). \n"
   ]
  },
  {
   "cell_type": "markdown",
   "metadata": {},
   "source": [
    "### Task 2"
   ]
  },
  {
   "cell_type": "markdown",
   "metadata": {},
   "source": [
    "The code for the two searching methods have been provided for you in the Alexandria notes. Your next task is to take both of those methods and run them on both of the following lists, searching for the integer \"**8**\":"
   ]
  },
  {
   "cell_type": "code",
   "execution_count": null,
   "metadata": {
    "collapsed": true
   },
   "outputs": [],
   "source": [
    "list_1 = [1,2,3,4,5,6,7,8]\n",
    "\n",
    "list_2 = [8,3,4,2,6,1,5,7]"
   ]
  },
  {
   "cell_type": "code",
   "execution_count": null,
   "metadata": {
    "collapsed": false
   },
   "outputs": [],
   "source": [
    "# Your solution for Task 2 (Linear Search)\n"
   ]
  },
  {
   "cell_type": "code",
   "execution_count": null,
   "metadata": {
    "collapsed": false
   },
   "outputs": [],
   "source": [
    "# Your solution for Task 2 (Binary Search)\n"
   ]
  },
  {
   "cell_type": "markdown",
   "metadata": {},
   "source": [
    "**Why did Binary Search fail on the second list?** \n"
   ]
  },
  {
   "cell_type": "markdown",
   "metadata": {},
   "source": [
    "The fundamental basis of Binary Search is that it exploits the sorted state of the list. When the list is not sorted, the contention of \"everything less than the current middle element is to the left, and everything greater is to the right\" no longer applies. Thus, we return to the original question of **is it worth sorting a list to use Binary Search?** It is worth discussing. There are many arguments on the topic that are usually based around the length of the list, and the number of times an item is to be searched for. Discuss it on the forums."
   ]
  },
  {
   "cell_type": "markdown",
   "metadata": {},
   "source": [
    "## Part 2: Sorting Algorithms"
   ]
  },
  {
   "cell_type": "markdown",
   "metadata": {
    "collapsed": true
   },
   "source": [
    "**Bubble Sort**, **Insertion Sort**, and **Selection Sort** have been explained in detail in the content of Alexandria. Below is the code that will allow the exploration of the time each algorithm will take given an increasing amount of items in a random or particular order.\n",
    "\n",
    "Run the code below to see how the time of Bubble Sort increases given an increase in items. Change the sorting method to see how long each method takes. (Note that this may take some time depending on the efficiency of your machine. You may wish to think about adding something to the code to tell you how far along it is in its calculation.)\n",
    "\n",
    "After this, try the following:\n",
    "\n",
    "* Add in a way for the sorting methods to be run in the same script on the same starting list. You will need to find a way to take a clone of a list (not a copy!)\n",
    "* Plot the run times of each sorting method against each other.\n",
    "* Change the list creation to create a list of just 1's. See how it changes the presented times.\n",
    "* Change the code to take the average of many runs for a given list size. (This is more accurate because it allows the errors of a \"bad run\" to be mitigated over other runs.)"
   ]
  },
  {
   "cell_type": "code",
   "execution_count": null,
   "metadata": {
    "collapsed": false
   },
   "outputs": [],
   "source": [
    "from random import random\n",
    "from time import clock   # useful module for timing and time-based operations\n",
    "import matplotlib.pyplot as plt\n",
    "import numpy as np\n",
    "\n",
    "\n",
    "# sorts the list in an ascending order using bubble sort\n",
    "def bubble_sort(the_list):\n",
    "    # obtain the length of the list \n",
    "    n = len(the_list)\n",
    "     \n",
    "    # perform n-1 iterations on the entire list\n",
    "    for i in range(n-1, 0, -1): \n",
    "        # for each iteration, move the largest item to the end\n",
    "        for j in range(i):\n",
    "            if the_list[j] > the_list[j+1]:\n",
    "                # swap if two adjacent items are out of order\n",
    "                temp = the_list[j]\n",
    "                the_list[j] = the_list[j+1]\n",
    "                the_list[j+1] = temp\n",
    "                \n",
    "                \n",
    "# sorts the list in an ascending order using selection sort\n",
    "def selection_sort(the_list):\n",
    "    # obtain the length of the list \n",
    "    n = len(the_list)\n",
    " \n",
    "    # perform n-1 iterations on the entire list\n",
    "    for i in range(n-1): \n",
    "        # assume the item at index i is the smallest\n",
    "        smallest = i\n",
    "        # check if any other item is smaller than the current smallest\n",
    "        for j in range(i+1, n):\n",
    "            if the_list[j] < the_list[smallest]:\n",
    "                smallest = j  # update the current j as the smallest\n",
    " \n",
    "        # place the smallest item in the correct position\n",
    "        the_list[smallest], the_list[i] = the_list[i], the_list[smallest]\n",
    "\n",
    "        \n",
    "# sorts the list in an ascending order using insertion sort\n",
    "def insertion_sort(the_list):\n",
    "    # obtain the length of the list\n",
    "    n = len(the_list)\n",
    " \n",
    "    # begin with the first item of the list\n",
    "    # treat it as the only item in the sorted sublist\n",
    "    for i in range(1, n):\n",
    "        # indicate the current item to be positioned\n",
    "        current_item = the_list[i]\n",
    " \n",
    "        # find the correct position where the current item\n",
    "        # should be placed in the sorted sublist       \n",
    "        pos = i\n",
    "        while pos > 0 and the_list[pos-1] > current_item:\n",
    "            # shift items in the sorted sublist that are\n",
    "            # larger than the current item to the right\n",
    "            the_list[pos] = the_list[pos-1]\n",
    "            pos -= 1\n",
    " \n",
    "        # place the current item at its correct position\n",
    "        the_list[pos] = current_item\n",
    "        \n",
    "        \n",
    "# the main code begins from here        \n",
    "total = 1\n",
    "\n",
    "times = []\n",
    "\n",
    "# increase the number of items with each iteration\n",
    "while total < 1000:\n",
    "        \n",
    "    random_items = []\n",
    "    \n",
    "    # generates a list of total items at random between 0 and 1 not including 1\n",
    "    for i in range(total):\n",
    "        item = random()\n",
    "        random_items.append(item)\n",
    "        \n",
    "    # this block of code measures the time it takes to sort the items\n",
    "    # get the time before sorting\n",
    "    start_time = clock()\n",
    "    # replace this with a sort of your choice\n",
    "    bubble_sort(random_items)\n",
    "    # get the time after sorting\n",
    "    end_time = clock()\n",
    "    \n",
    "    total += 1\n",
    "    \n",
    "    times.append(end_time - start_time)\n",
    "    \n",
    "# plot the 1000 run times    \n",
    "x_values = np.arange(1., 1000.)\n",
    "\n",
    "plt.plot(x_values, times)\n",
    "plt.show()\n"
   ]
  },
  {
   "cell_type": "markdown",
   "metadata": {},
   "source": [
    "**Note:** You are required to edit the above code to explore the three sorting methods."
   ]
  }
 ],
 "metadata": {
  "anaconda-cloud": {},
  "kernelspec": {
   "display_name": "Python 3",
   "language": "python",
   "name": "python3"
  },
  "language_info": {
   "codemirror_mode": {
    "name": "ipython",
    "version": 3
   },
   "file_extension": ".py",
   "mimetype": "text/x-python",
   "name": "python",
   "nbconvert_exporter": "python",
   "pygments_lexer": "ipython3",
   "version": "3.6.0"
  }
 },
 "nbformat": 4,
 "nbformat_minor": 1
}
