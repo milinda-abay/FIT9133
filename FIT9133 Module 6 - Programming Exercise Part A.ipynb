{
 "cells": [
  {
   "cell_type": "markdown",
   "metadata": {},
   "source": [
    "# FIT9133 Module 6: Programming Exercise Part A\n",
    "\n",
    "This exercise will extend your understanding on the concepts of **divide-and-conquer** and **recursion**. We will work through a number of recursive functions in this part of the exercise."
   ]
  },
  {
   "cell_type": "markdown",
   "metadata": {},
   "source": [
    "## Part 1: Iterative Solutions vs Recursive Solutions\n",
    "\n",
    "As discussed in the Alexandria notes, **recursive algorithms** achieve the same purpose as **iterative algorithms**. *Why make the choice for one over another?* Sometimes it has to do with the logic of programming: some problems lend themselves very well to recursion, others to iteration. Sometimes it is about the programmers: a programmer of some code may prefer thinking recursively rather than iteratively. \n",
    "\n",
    "Below is an example of **list traversal**, a typical example that most programmers see as iterative. The task here is to demonstrate that this can be made recursive. Run the code below and see what it does."
   ]
  },
  {
   "cell_type": "code",
   "execution_count": null,
   "metadata": {
    "collapsed": false
   },
   "outputs": [],
   "source": [
    "# Iterative function\n",
    "\n",
    "def list_traverse(the_list):\n",
    "    for item in the_list:\n",
    "        print(item)\n",
    "        \n",
    "list_traverse([1,2,3,4])"
   ]
  },
  {
   "cell_type": "markdown",
   "metadata": {},
   "source": [
    "*It is rather simple, isn't it?* However, the function can be written such that it is recursive without changing the way the function is invoked or called. \n",
    "\n",
    "*Why is that important?* The user does not care how a function works, as long as it achieves the desired purpose using a reasonable amount of resources. Thus, the function signature of both iterative and recursive, regardless of how it is written, should remain unchanged."
   ]
  },
  {
   "cell_type": "code",
   "execution_count": null,
   "metadata": {
    "collapsed": false
   },
   "outputs": [],
   "source": [
    "# Recursive function (version 1)\n",
    "\n",
    "def list_traverse(the_list):\n",
    "    if(len(the_list) == 0):\n",
    "        return\n",
    "    \n",
    "    print(the_list[0])\n",
    "    \n",
    "    return list_traverse(the_list[1:])\n",
    "\n",
    "list_traverse([1,2,3,4])"
   ]
  },
  {
   "cell_type": "markdown",
   "metadata": {},
   "source": [
    "Note that this is not the only way to write this function recursively. One can change the function to use a secondary call often referred to as an *auxillary* function (as shown below)."
   ]
  },
  {
   "cell_type": "code",
   "execution_count": null,
   "metadata": {
    "collapsed": false
   },
   "outputs": [],
   "source": [
    "# Recursive function (version 2)\n",
    "\n",
    "def list_traverse(the_list):\n",
    "    \n",
    "    return aux_list_traverse(0, the_list)\n",
    "\n",
    "def aux_list_traverse(index, the_list):\n",
    "\n",
    "    if(index == len(the_list)):\n",
    "        return\n",
    "    \n",
    "    print(the_list[index])\n",
    "    \n",
    "    return aux_list_traverse(index + 1, the_list)\n",
    "\n",
    "list_traverse([1,2,3,4])"
   ]
  },
  {
   "cell_type": "markdown",
   "metadata": {},
   "source": [
    "The second version of the recursive function does appear to be more complicated, but *does this mean it is worse than the first version? *\n",
    "\n",
    "Consider exactly what each function is doing to achieve its purpose (the intended task) and determine for yourself which is better. Discuss your opinions on the discussion forum. \n"
   ]
  },
  {
   "cell_type": "markdown",
   "metadata": {},
   "source": [
    "**Your task:** Once you have done this, re-visit the previous activities, and choose a piece of code (or a function) that you have written iteratively and change it to work recursively. It does not have to be complicated code, so long as the code is iterative. Try and write it in a few different ways as we have done above. Once you have one recursive function that is working, make sure you demonstrate it to your tutor.\n"
   ]
  },
  {
   "cell_type": "markdown",
   "metadata": {},
   "source": [
    "## Part 2: The Tower of Hanoi"
   ]
  },
  {
   "cell_type": "markdown",
   "metadata": {
    "collapsed": true
   },
   "source": [
    "The [Tower of Hanoi](https://en.wikipedia.org/wiki/Tower_of_Hanoi) is a problem involving a set of pegs arranged in a row, where the stack of disks of increasing size are transfered from one peg to another peg, and must be moved in such a way without placing the larger disks on top of the smaller ones at any one peg. It is a problem involving limited resources to move a known amount of items from one place to another. (This is not dissimilar to the problem of how a computer works where RAM is the resource, and the data to be loaded is the known items to be moved.)\n",
    "\n",
    "The following code has been taken from [the online textbook](http://interactivepython.org/runestone/static/pythonds/Recursion/TowerofHanoi.html). The code itself and the logic may appear to be a little complicated, you are encouraged to read through the description from the original source. However, it is a demonstration of how the problem of Tower of Hanoi can be solved recursively. Your task here is to investigate the recursive function presented below. \n"
   ]
  },
  {
   "cell_type": "markdown",
   "metadata": {},
   "source": [
    "Consider the following:\n",
    "* How would the code need to change to return the instructions as a data type such as a List?\n",
    "* Is the program more complicated if the number of disks or the number of pegs increases? (Try counting the number of recursive calls as either the number of disks or the number of pegs changes.)\n",
    "* Based on the given code, try measuring the time that each function call takes, and thus the total time that the entire program takes.\n",
    "* Is having two functions necessary for this recursive solution to work? Is it just the matter of choice by the programmer for defining **move_disk** as another function?\n",
    "* Can you make an equivalent version of this program that is iterative?"
   ]
  },
  {
   "cell_type": "code",
   "execution_count": null,
   "metadata": {
    "collapsed": false
   },
   "outputs": [],
   "source": [
    "def move_tower(height, from_pole, to_pole, with_pole):\n",
    "    if height >= 1:\n",
    "        move_tower(height-1, from_pole, with_pole, to_pole)\n",
    "        move_disk(from_pole, to_pole)\n",
    "        move_tower(height-1, with_pole, to_pole, from_pole)\n",
    "        \n",
    "def move_disk(from_pole, to_pole):\n",
    "    print(\"moving disk from\", from_pole, \"to\", to_pole)\n",
    "    \n",
    "# three disks with three pegs (A, B, and C)\n",
    "move_tower(3,\"A\",\"C\",\"B\")   "
   ]
  }
 ],
 "metadata": {
  "anaconda-cloud": {},
  "kernelspec": {
   "display_name": "Python 3",
   "language": "python",
   "name": "python3"
  },
  "language_info": {
   "codemirror_mode": {
    "name": "ipython",
    "version": 3
   },
   "file_extension": ".py",
   "mimetype": "text/x-python",
   "name": "python",
   "nbconvert_exporter": "python",
   "pygments_lexer": "ipython3",
   "version": "3.6.0"
  }
 },
 "nbformat": 4,
 "nbformat_minor": 1
}
