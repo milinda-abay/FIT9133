{
  "nbformat": 4,
  "nbformat_minor": 0,
  "metadata": {
    "colab": {
      "name": "FIT9133 Module 5 - Programming Exercise.ipynb",
      "version": "0.3.2",
      "provenance": [],
      "collapsed_sections": []
    },
    "language_info": {
      "codemirror_mode": {
        "name": "ipython",
        "version": 3
      },
      "file_extension": ".py",
      "mimetype": "text/x-python",
      "name": "python",
      "nbconvert_exporter": "python",
      "pygments_lexer": "ipython3",
      "version": "3.7.2"
    },
    "kernelspec": {
      "display_name": "Python 3",
      "language": "python",
      "name": "python3"
    }
  },
  "cells": [
    {
      "cell_type": "markdown",
      "metadata": {
        "id": "-H7VtSeUl7-k",
        "colab_type": "text"
      },
      "source": [
        "# FIT9133 Module 5: Programming Exercise\n",
        "\n",
        "This exercise will test your understanding of **exception handling** and **testing**. You will be required to write a code in such a way that it will take care of all the _exceptions_. You will also be required to write a _unit_ _test_ for your programs. Where it seems necessary comments will be added to assist you with the program development.\n"
      ]
    },
    {
      "cell_type": "markdown",
      "metadata": {
        "id": "f3dNW-Ybl7-n",
        "colab_type": "text"
      },
      "source": [
        "## Part 1: Debugging\n",
        "\n",
        "Some \"buggy\" code for calculating student GPA has been provided to you. Identify the types of **errors** and use `print` statements to _debug_ the program. Also use `assert` statements to make sure all input parameters are correct.\n",
        "\n",
        "**Note:** Every student is registered in five units. Each unit can have the following grade and the associated score:\n",
        "\n",
        "    A ----- 4.0\n",
        "    B ----- 3.0\n",
        "    C ----- 2.0\n",
        "    D ----- 1.0\n",
        "    F ----- 0.0"
      ]
    },
    {
      "cell_type": "code",
      "metadata": {
        "id": "wikqhINsl7-p",
        "colab_type": "code",
        "colab": {}
      },
      "source": [
        "number_of_units = 3\n",
        "unit_grades = []\n",
        "total_sum = 0.0\n",
        "\n",
        "for i in range(len(number_of_units)):\n",
        "    input_grades.append = input(\"Please enter the grade for \" + (i+1) + \" unit: \")\n",
        "    \n",
        "for grades in input_grades:\n",
        "    if grade == \"A\":\n",
        "        total_sum += 4.0\n",
        "    elif grade == \"B\":\n",
        "        total_sum += 3.0\n",
        "    elif grade == \"B\":\n",
        "        total_sum += 2.0\n",
        "    elif grade == \"D\":\n",
        "        total_sum += 1.0\n",
        "    elif grade == \"F\":\n",
        "        total_sum += 1.0\n",
        "        \n",
        "print(\"The GPA of a student is: \" + (total_sum * number_of_units))\n"
      ],
      "execution_count": 0,
      "outputs": []
    },
    {
      "cell_type": "code",
      "metadata": {
        "id": "7d9087E5l7-v",
        "colab_type": "code",
        "colab": {}
      },
      "source": [
        "# Identify the errors and document them here\n",
        "\n",
        "number_of_units = 3\n",
        "unit_grades = []\n",
        "total_sum = 0.0\n",
        "\n",
        "for i in range(len(number_of_units)):\n",
        "    input_grades.append = input(\"Please enter the grade for \" + (i+1) + \" unit: \")\n",
        "\n",
        "for grades in input_grades:\n",
        "    if grade == \"A\":\n",
        "        total_sum += 4.0\n",
        "    elif grade == \"B\":\n",
        "        total_sum += 3.0\n",
        "    elif grade == \"B\":\n",
        "        total_sum += 2.0\n",
        "    elif grade == \"D\":\n",
        "        total_sum += 1.0\n",
        "    elif grade == \"F\":\n",
        "        total_sum += 1.0\n",
        "\n",
        "print(\"The GPA of a student is: \" + (total_sum * number_of_units))\n"
      ],
      "execution_count": 0,
      "outputs": []
    },
    {
      "cell_type": "code",
      "metadata": {
        "id": "wJFBfl8kl7-y",
        "colab_type": "code",
        "colab": {}
      },
      "source": [
        "# Handle the errors identified by modifying the given code\n",
        "\n",
        "    "
      ],
      "execution_count": 0,
      "outputs": []
    },
    {
      "cell_type": "markdown",
      "metadata": {
        "id": "h6rwwzVul7-1",
        "colab_type": "text"
      },
      "source": [
        "## Part 2: Testing\n",
        "\n",
        "The code presented in Part 1 above has been converted to a function. Think about what kind of _testing_ will you be doing for this function. Recall the three types of **test cases** that we have discussed in the Alexandria notes. Using these test cases, write a **unit test** for this method."
      ]
    },
    {
      "cell_type": "code",
      "metadata": {
        "id": "RYE6Cdrll7-2",
        "colab_type": "code",
        "colab": {}
      },
      "source": [
        "def calculate_GPA(grade_list):\n",
        "    total_sum = 0.0\n",
        "    gpa = 0.0\n",
        "    \n",
        "    for grade in grade_list:\n",
        "        if grade.upper() == \"A\":\n",
        "            total_sum += 4.0\n",
        "        elif grade.upper() == \"B\":\n",
        "            total_sum += 3.0\n",
        "        elif grade.upper() == \"C\":\n",
        "            total_sum += 2.0\n",
        "        elif grade.upper() == \"D\":\n",
        "            total_sum += 1.0\n",
        "        elif grade.upper() == \"F\":\n",
        "            total_sum += 0.0\n",
        "        else:\n",
        "            return -1\n",
        "\n",
        "    gpa = float(total_sum / len(grade_list))\n",
        "    return gpa"
      ],
      "execution_count": 0,
      "outputs": []
    },
    {
      "cell_type": "code",
      "metadata": {
        "id": "vElnoTwTl7-5",
        "colab_type": "code",
        "colab": {}
      },
      "source": [
        "# Write your unit test here\n",
        "\n",
        "import unittest\n",
        "\n",
        "class TestForGPA(unittest.TestCase):\n"
      ],
      "execution_count": 0,
      "outputs": []
    },
    {
      "cell_type": "code",
      "metadata": {
        "id": "oXDw2Uccl7-9",
        "colab_type": "code",
        "colab": {}
      },
      "source": [
        "# Note that the way unit testing is done here is a bit different than it is presented in your Alexandria notes.\n",
        "# Your notes demonstrate the way how unit testing will be done in an IDE. \n",
        "# For Jupyter or iPython Notebook, tests are invoked using the following statements.\n",
        "\n",
        "test = TestForGPA()\n",
        "\n",
        "suite = unittest.TestLoader().loadTestsFromModule(test)\n",
        "\n",
        "unittest.TextTestRunner().run(suite)"
      ],
      "execution_count": 0,
      "outputs": []
    },
    {
      "cell_type": "markdown",
      "metadata": {
        "id": "3VQTp18Ol7_A",
        "colab_type": "text"
      },
      "source": [
        "## Part 3: Exceptions\n",
        "\n",
        "Extend the program that you have written for code below such that it now catches the **exceptions**."
      ]
    },
    {
      "cell_type": "code",
      "metadata": {
        "id": "kfwzVVQmmAPu",
        "colab_type": "code",
        "colab": {}
      },
      "source": [
        "# open simple_file.txt for reading\n",
        "input_handle = open('simple_file.txt','r')\n",
        "\n",
        "# open output_file.txt for writing\n",
        "output_handle = open('output_file.txt', 'w')\n",
        "\n",
        "# perform some data processing\n",
        "for line in input_handle:\n",
        "    # remove the newline character for each input line\n",
        "    line = line.strip(\"\\n\")\n",
        "\n",
        "    # split each input line into individual tokens\n",
        "    line_tokens = line.split(\" \")\n",
        "    \n",
        "    if line_tokens[2] == \"one\":\n",
        "        line_tokens[2] = '1'\n",
        "    elif line_tokens[2] == \"two\":\n",
        "        line_tokens[2] = '2'\n",
        "    elif line_tokens[2] == \"three\":\n",
        "        line_tokens[2] = '3'\n",
        "    elif line_tokens[2] == \"four\":\n",
        "        line_tokens[2] = '4'\n",
        "    elif line_tokens[2] == \"five\":\n",
        "        line_tokens[2] = '5'\n",
        "        \n",
        "    # print result on screen for checking\n",
        "    # print(line_tokens)\n",
        "    \n",
        "    # construct the string to be written to the output file\n",
        "    new_line = line_tokens[0] + \" \" + line_tokens[1] + \" \" + line_tokens[2] + \"\\n\"\n",
        "    output_handle.write(new_line) \n",
        "    \n",
        "# close both files after processing\n",
        "input_handle.close()\n",
        "output_handle.close()"
      ],
      "execution_count": 0,
      "outputs": []
    },
    {
      "cell_type": "code",
      "metadata": {
        "id": "fDPfp3PRl7_A",
        "colab_type": "code",
        "colab": {}
      },
      "source": [
        "# Your solution on exception handling for Programming Exercise Part A: Part 1\n",
        "\n"
      ],
      "execution_count": 0,
      "outputs": []
    },
    {
      "cell_type": "markdown",
      "metadata": {
        "id": "YbK2yrwrl7_C",
        "colab_type": "text"
      },
      "source": [
        "Based upon the errors you have identified, perform exception handling for the buggy code in **Part 1** (in this programming activity). Do not correct the errors. Your task is to make sure that program exits _gracefully_ without terminating in the middle of the program execution."
      ]
    },
    {
      "cell_type": "code",
      "metadata": {
        "id": "VXBWDMCLl7_D",
        "colab_type": "code",
        "colab": {}
      },
      "source": [
        "# Your solution on exception handling for Programming Exercise Part B: Part 1\n",
        "\n"
      ],
      "execution_count": 0,
      "outputs": []
    }
  ]
}