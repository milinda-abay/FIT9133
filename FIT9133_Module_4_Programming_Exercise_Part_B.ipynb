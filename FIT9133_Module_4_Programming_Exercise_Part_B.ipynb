{
  "nbformat": 4,
  "nbformat_minor": 0,
  "metadata": {
    "colab": {
      "name": "FIT9133 Module 4 - Programming Exercise Part B.ipynb",
      "version": "0.3.2",
      "provenance": [],
      "collapsed_sections": []
    },
    "language_info": {
      "codemirror_mode": {
        "name": "ipython",
        "version": 3
      },
      "file_extension": ".py",
      "mimetype": "text/x-python",
      "name": "python",
      "nbconvert_exporter": "python",
      "pygments_lexer": "ipython3",
      "version": "3.7.2"
    },
    "kernelspec": {
      "display_name": "Python 3",
      "language": "python",
      "name": "python3"
    }
  },
  "cells": [
    {
      "cell_type": "markdown",
      "metadata": {
        "id": "lAN-n1kvefeu",
        "colab_type": "text"
      },
      "source": [
        "# FIT9133 Module 4: Programming Exercise Part B\n",
        "In this first exercise for Module 4, you will get to explore further on **searching** and **sorting** algorithms."
      ]
    },
    {
      "cell_type": "markdown",
      "metadata": {
        "id": "7cytRquAefex",
        "colab_type": "text"
      },
      "source": [
        "## Part 1: Searching Algorithms"
      ]
    },
    {
      "cell_type": "markdown",
      "metadata": {
        "id": "VIMLIyhJefez",
        "colab_type": "text"
      },
      "source": [
        "The theory of **searching** is at the centre of database and data research. Searching allows for the _retrieval_ of useful data and for its organisation, most namely in the form of **sorting**. We start with searching because it leads directly to applications of sorting. \n",
        "\n",
        "The theory of basic searching is simple: **Linear Search** finds items by probing one item at a time in the order that they appear in the list until the desired element is found, or the end of the list is reached. The second search that was discussed is **Binary Search**, which suggests that if we probe for an item, we can know what we are looking for (if it exists) will be either the current item that we are looking at, or lies on the left or right of that item.\n",
        "\n",
        "It can be seen is that Linear Search is universal. If the element exists in the list being searched then it will be found, irrelevant of how the list is constructed. For Binary Search to work the list must be sorted. Starting at the centre (or close to the centre) of the list, the probing can be done with a more efficient procedure.\n",
        "\n",
        "However, the question that should be asked: *is it worth sorting the list to use Binary Search over Linear Search?*\n"
      ]
    },
    {
      "cell_type": "markdown",
      "metadata": {
        "id": "-9VJ5np3efe1",
        "colab_type": "text"
      },
      "source": [
        "### Task 1"
      ]
    },
    {
      "cell_type": "markdown",
      "metadata": {
        "id": "zhpGxAQLefe3",
        "colab_type": "text"
      },
      "source": [
        "Have a think and suggest which searching method you would use for the following scenarios.\n",
        "\n",
        "1. **Find 1 number from a sorted list of integers**\n",
        "2. **Gather all photos of a cat from many cat pictures**\n",
        "3. **Find all numbers greater than 5 from a list of unsorted integers**\n",
        "4. **Obtain the smallest number from a sorted list of integers**\n",
        "\n",
        "There are many possible answers, but arguments will suggest that one searching method is better than another depending on the scenario (and maybe that neither is an acceptable method). \n"
      ]
    },
    {
      "cell_type": "markdown",
      "metadata": {
        "id": "E9MLfHvoefe4",
        "colab_type": "text"
      },
      "source": [
        "### Task 2"
      ]
    },
    {
      "cell_type": "markdown",
      "metadata": {
        "id": "Aix1ZoZSefe5",
        "colab_type": "text"
      },
      "source": [
        "The code for the two searching methods have been provided for you in the Alexandria notes. Your next task is to take both of those methods and run them on both of the following lists, searching for the integer \"**8**\":"
      ]
    },
    {
      "cell_type": "code",
      "metadata": {
        "id": "KKT_ZYLgefe6",
        "colab_type": "code",
        "colab": {}
      },
      "source": [
        "list_1 = [1,2,3,4,5,6,7,8]\n",
        "\n",
        "list_2 = [8,3,4,2,6,1,5,7]"
      ],
      "execution_count": 0,
      "outputs": []
    },
    {
      "cell_type": "code",
      "metadata": {
        "id": "BOOWRoiKefe_",
        "colab_type": "code",
        "colab": {}
      },
      "source": [
        "# Your solution for Task 2 (Linear Search)\n"
      ],
      "execution_count": 0,
      "outputs": []
    },
    {
      "cell_type": "code",
      "metadata": {
        "id": "yAejvMj9effB",
        "colab_type": "code",
        "colab": {}
      },
      "source": [
        "# Your solution for Task 2 (Binary Search)\n"
      ],
      "execution_count": 0,
      "outputs": []
    },
    {
      "cell_type": "markdown",
      "metadata": {
        "id": "JLHM6odYeffE",
        "colab_type": "text"
      },
      "source": [
        "**Why did Binary Search fail on the second list?** \n"
      ]
    },
    {
      "cell_type": "markdown",
      "metadata": {
        "id": "RSOWd2-9effF",
        "colab_type": "text"
      },
      "source": [
        "The fundamental basis of Binary Search is that it exploits the sorted state of the list. When the list is not sorted, the contention of \"everything less than the current middle element is to the left, and everything greater is to the right\" no longer applies. Thus, we return to the original question of **is it worth sorting a list to use Binary Search?** It is worth discussing. There are many arguments on the topic that are usually based around the length of the list, and the number of times an item is to be searched for. Discuss it on the forums."
      ]
    },
    {
      "cell_type": "markdown",
      "metadata": {
        "id": "i9katfz8effG",
        "colab_type": "text"
      },
      "source": [
        "## Part 2: Sorting Algorithms"
      ]
    },
    {
      "cell_type": "markdown",
      "metadata": {
        "collapsed": true,
        "id": "FR4xH9GYeffH",
        "colab_type": "text"
      },
      "source": [
        "**Task 1**: Please write the code for **Bubble Sort**, **Insertion Sort**, and **Selection Sort** in different functions, and also count how many operations these algorithms take to finish the sorting. **Note** that we only count the comparison operation and swap operation."
      ]
    },
    {
      "cell_type": "code",
      "metadata": {
        "id": "ieI8QY69effI",
        "colab_type": "code",
        "colab": {}
      },
      "source": [
        "# sorts the list in an ascending order using bubble sort\n",
        "def bubble_sort(the_list):"
      ],
      "execution_count": 0,
      "outputs": []
    },
    {
      "cell_type": "code",
      "metadata": {
        "id": "H65pu2mBeffK",
        "colab_type": "code",
        "colab": {}
      },
      "source": [
        "# sorts the list in an ascending order using selection sort\n",
        "def selection_sort(the_list):"
      ],
      "execution_count": 0,
      "outputs": []
    },
    {
      "cell_type": "code",
      "metadata": {
        "id": "BL9lym4meffM",
        "colab_type": "code",
        "colab": {}
      },
      "source": [
        "# sorts the list in an ascending order using insertion sort\n",
        "def insertion_sort(the_list):"
      ],
      "execution_count": 0,
      "outputs": []
    },
    {
      "cell_type": "markdown",
      "metadata": {
        "collapsed": true,
        "id": "kwBl5ogbeffO",
        "colab_type": "text"
      },
      "source": [
        "**Task2**: Given the following list, please check which sorting algorithm is more efficient?\n",
        "- [1, 10, 5, 8, 2, 6, 7, 9, 4, 3]\n",
        "- [10, 9, 8, 7, 6, 5, 4, 3, 2, 1]\n",
        "- [1, 2, 3, 4, 5, 6, 7, 8, 9, 10]\n",
        "\n",
        "You can also try more test cases to check which sorting algorithm is more suitable in different scenarios."
      ]
    },
    {
      "cell_type": "code",
      "metadata": {
        "id": "viAgF2ypeffP",
        "colab_type": "code",
        "colab": {}
      },
      "source": [
        ""
      ],
      "execution_count": 0,
      "outputs": []
    },
    {
      "cell_type": "markdown",
      "metadata": {
        "id": "iOPqcrEyCVgm",
        "colab_type": "text"
      },
      "source": [
        "**Open question**: Can you change the input list to see the performance of different sorting algorithms? \n",
        "Can you change count all operations of each algorithm for implementing the sorting? Not limited to the swap operation and comparison operation."
      ]
    }
  ]
}