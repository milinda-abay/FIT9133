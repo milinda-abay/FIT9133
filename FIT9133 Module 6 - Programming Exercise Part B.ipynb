{
 "cells": [
  {
   "cell_type": "markdown",
   "metadata": {},
   "source": [
    "# FIT9133 Module 6: Programming Exercise Part B\n",
    "\n",
    "This exercise will test your understanding on two recursive sorting algorithms, **Merge Sort** and **Quick Sort**. You will not be required to write extensive code as part of this exercise. You will however be tested on your ability to understand and use these recursive sorting algorthims where they are required."
   ]
  },
  {
   "cell_type": "markdown",
   "metadata": {},
   "source": [
    "## Part 1: Merge Sort"
   ]
  },
  {
   "cell_type": "markdown",
   "metadata": {},
   "source": [
    "### Task 1\n",
    "\n",
    "Apply Merge Sort (based on the algorithm presented below) on the following list: **[10, 0, 15, 13, 8, 13, 15, 9, 10, 5]**. Show on a piece of paper how this list will be sorted by first being divided and then get merged. Once that is done, run the algorithm to demonstrate that the algorthm is working in the same way as you have shown."
   ]
  },
  {
   "cell_type": "code",
   "execution_count": null,
   "metadata": {
    "collapsed": false
   },
   "outputs": [],
   "source": [
    "## The answer presented on paper should match with the output here.\n",
    "## It is a good idea to create a tree-like structure of splitting and merging as seen in the Alexandria notes.\n",
    "\n",
    "def merge_sort_ascending(the_list):\n",
    "    # obtain the length of the list\n",
    "    n = len(the_list)\n",
    " \n",
    "    if n > 1: # check for base case\n",
    "        # find the middle of the list\n",
    "        mid = n // 2\n",
    "        \n",
    "        # based upon the middle index, two sublists are then created\n",
    "        # from the 0 index until the mid-1 index\n",
    "        left_sublist = the_list[:mid]\n",
    "        # from the mid index until the n - 1 index\n",
    "        right_sublist = the_list[mid:] \n",
    "        print(\"Splitting: \" + str(left_sublist) + \" and \" + str(right_sublist))\n",
    "        \n",
    "        # merge sort is called again on the two new created sub-lists\n",
    "        merge_sort_ascending(left_sublist)\n",
    "        merge_sort_ascending(right_sublist)\n",
    " \n",
    "        # sort and merge\n",
    "        print(\"Merging \" + str(left_sublist) + \" with \" + str(right_sublist))\n",
    "        i = 0 # index for left sublist\n",
    "        j = 0 # index for right sublist\n",
    "        k = 0 # index for main list\n",
    " \n",
    "        while i < len(left_sublist) and j < len(right_sublist):\n",
    "            if left_sublist[i] <= right_sublist[j]:\n",
    "                the_list[k] = left_sublist[i]\n",
    "                i += 1\n",
    "            else:\n",
    "                the_list[k] = right_sublist[j]\n",
    "                j += 1\n",
    "            k += 1\n",
    " \n",
    " \n",
    "        # insert the remaining elements into main list\n",
    "        while i < len(left_sublist):\n",
    "            the_list[k] = left_sublist[i]\n",
    "            i += 1\n",
    "            k += 1\n",
    " \n",
    "        while j < len(right_sublist):\n",
    "            the_list[k] = right_sublist[j]\n",
    "            j += 1\n",
    "            k += 1\n",
    " \n",
    "        print(\"After merging the list is: \" + str(the_list))\n",
    "    \n",
    "merge_sort_ascending([10, 0, 15, 13, 8, 13, 15, 9, 10, 5])"
   ]
  },
  {
   "cell_type": "markdown",
   "metadata": {},
   "source": [
    "### Task 2\n",
    "Modify the code for Merge Sort given above such that the list is sorted in *descending* order."
   ]
  },
  {
   "cell_type": "code",
   "execution_count": null,
   "metadata": {
    "collapsed": true
   },
   "outputs": [],
   "source": [
    "# Write your solution for Task 2 here"
   ]
  },
  {
   "cell_type": "markdown",
   "metadata": {},
   "source": [
    "### Task 3\n",
    "Suppose that instead of numbers you have to sort *characters*. Write a  program that will take a list of characters and produce a sorted output (either ascending or descending). For example, if the input is **[p, y, t, h, o, n]**, the output will be **[y, t, p, o, n, h]** if it is sorted in descending order. Explain how characters are sorted.\n"
   ]
  },
  {
   "cell_type": "code",
   "execution_count": null,
   "metadata": {
    "collapsed": true
   },
   "outputs": [],
   "source": [
    "# Write your solution for Task 3 here"
   ]
  },
  {
   "cell_type": "markdown",
   "metadata": {},
   "source": [
    "## Part 2: Quick Sort\n",
    "\n"
   ]
  },
  {
   "cell_type": "markdown",
   "metadata": {
    "collapsed": true
   },
   "source": [
    "### Task 1\n",
    "Given the following list: **[10, 0, 15, 13, 8, 13, 15, 9, 10, 5]**, how does the Quick Sort algorithm re-arrange the list in the *ascending* order given that the **pivot** element is the *first element* of the list. Run the code given below to show that it is working in the same order as you have done on a piece of paper. "
   ]
  },
  {
   "cell_type": "code",
   "execution_count": null,
   "metadata": {
    "collapsed": false
   },
   "outputs": [],
   "source": [
    "## The answer presented on paper should match with the output here.\n",
    "\n",
    "def quick_sort(the_list):\n",
    "    # pass the indices of first and last elements of the list\n",
    "    first = 0\n",
    "    last  = len(the_list) - 1\n",
    "    quick_sort_aux(the_list, first, last)\n",
    "    \n",
    "    \n",
    "def quick_sort_aux(the_list, first, last):\n",
    "    # if it is not the base case\n",
    "    if first < last:\n",
    "        # find the partition point\n",
    "        partition_point = partitioning(the_list, first, last)\n",
    "        \n",
    "        print(\"partition at index: \", partition_point)\n",
    "        print(the_list)\n",
    "        print(\"After partitioning: \" + str(the_list[first:partition_point]) + \\\n",
    "              \" and \" +  str(the_list[partition_point+1:last+1]))\n",
    "\n",
    "        # call the quick sort function again on the new sublists\n",
    "        quick_sort_aux(the_list, first, partition_point - 1)\n",
    "        quick_sort_aux(the_list, partition_point + 1, last)\n",
    " \n",
    " \n",
    "def partitioning(the_list, first, last):\n",
    "    # take first element of the list is the pivot\n",
    "    pivot_value = the_list[first]\n",
    "    print(\"pivot: \" + str(pivot_value)) \n",
    " \n",
    "    # these two indices will help us in locating the index point where the list will be partitioned\n",
    "    left_index = first + 1\n",
    "    right_index = last\n",
    " \n",
    "    complete = False\n",
    " \n",
    "    while not complete:\n",
    "        # start with the left index and keep on incrementing it\n",
    "        # until a value greater than the pivot value is found\n",
    "        while left_index <= right_index and the_list[left_index] <= pivot_value: \n",
    "            left_index += 1\n",
    " \n",
    "        # now look for element from the right of the list\n",
    "        # which is smaller than the pivot value\n",
    "        while right_index >= left_index and the_list[right_index] >= pivot_value:\n",
    "            right_index -= 1\n",
    " \n",
    "        # check whether left and right indices have crossed each other\n",
    "        # if that is the case exit the while loop\n",
    "        if right_index < left_index:\n",
    "            complete = True\n",
    "        else:\n",
    "        # otherwise swap the two elements\n",
    "            the_list[left_index], the_list[right_index] = the_list[right_index], the_list[left_index]\n",
    " \n",
    "    # swap the pivot element with the element of the right index\n",
    "    the_list[first], the_list[right_index] = the_list[right_index], the_list[first]\n",
    " \n",
    "    # return right index which is the partition point\n",
    "    return right_index\n",
    "\n",
    "\n",
    "# Testing the Quick Sort algorithm\n",
    "the_list = [10, 0, 15, 13, 8, 13, 15, 9, 10, 5]\n",
    "quick_sort(the_list)\n",
    "print(the_list)\n"
   ]
  },
  {
   "cell_type": "markdown",
   "metadata": {},
   "source": [
    "### Task 2\n",
    "\n",
    "Repeat the same exercise as above but this time considering the **pivot** element as the *last element* of the list."
   ]
  },
  {
   "cell_type": "code",
   "execution_count": null,
   "metadata": {
    "collapsed": true
   },
   "outputs": [],
   "source": [
    "# Write your solution for Task 2 here"
   ]
  },
  {
   "cell_type": "markdown",
   "metadata": {},
   "source": [
    "### Task 3\n",
    "\n",
    "Discuss some other possible ways of specifying the pivot value and share them on the forums.\n",
    "    "
   ]
  }
 ],
 "metadata": {
  "anaconda-cloud": {},
  "kernelspec": {
   "display_name": "Python 3",
   "language": "python",
   "name": "python3"
  },
  "language_info": {
   "codemirror_mode": {
    "name": "ipython",
    "version": 3
   },
   "file_extension": ".py",
   "mimetype": "text/x-python",
   "name": "python",
   "nbconvert_exporter": "python",
   "pygments_lexer": "ipython3",
   "version": "3.6.0"
  }
 },
 "nbformat": 4,
 "nbformat_minor": 0
}
