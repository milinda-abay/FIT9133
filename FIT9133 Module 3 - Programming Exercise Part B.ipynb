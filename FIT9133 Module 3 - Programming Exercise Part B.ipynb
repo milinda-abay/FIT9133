{
 "cells": [
  {
   "cell_type": "markdown",
   "metadata": {},
   "source": [
    "# FIT9133 Module 3: Programming Exercise Part B\n",
    "The exercises that follow check your understanding of **functions and classes**. You will be developing programs based upon your knowledge of the principles of problem *decomposition*. Comments have been added to help you with the program logic where necessary. "
   ]
  },
  {
   "cell_type": "markdown",
   "metadata": {},
   "source": [
    "## Part 1: Exploring the Point Class \n",
    "\n",
    "### Task 1\n",
    "Given the **Point** class below, identify all the variables and determine whether they are: *class variable*, *instance variable* or *local variable*."
   ]
  },
  {
   "cell_type": "code",
   "execution_count": null,
   "metadata": {
    "collapsed": true
   },
   "outputs": [],
   "source": [
    "class Point:\n",
    "\n",
    "    def __init__(self, x, y):\n",
    "        self.x = x\n",
    "        self.y = y\n",
    "\n",
    "    def get_x(self):\n",
    "        return self.x\n",
    "\n",
    "    def get_y(self):\n",
    "        return self.y\n",
    "\n",
    "    def set_x(self, x):\n",
    "        self.x = x\n",
    "\n",
    "    def set_y(self, y):\n",
    "        self.y = y\n",
    "\n",
    "    def distance_from_origin(self):\n",
    "        temp_x = self.x ** 2\n",
    "        temp_y = self.y ** 2\n",
    "        return ((temp_x) + (temp_y)) ** 0.5\n",
    "\n",
    "    def __eq__(self, object):\n",
    "        if self.x == object.x and self.y == object.y:\n",
    "            return True\n",
    "        else:\n",
    "            return False\n",
    "\n",
    "    def __str__(self):\n",
    "        return str(self.x) + \" , \" + str(self.y)"
   ]
  },
  {
   "cell_type": "markdown",
   "metadata": {},
   "source": [
    "### Task 2\n",
    "Extend the Point class above to include a method that finds *the distance of the point from a given point*. Some code is given below to get you started with the writing of the method."
   ]
  },
  {
   "cell_type": "code",
   "execution_count": null,
   "metadata": {},
   "outputs": [],
   "source": [
    "def distance_from_given_point (self, x, y):\n",
    "    # Use the formula square root of ((x2 - x1)^2 + (y2 - y1)^2)"
   ]
  },
  {
   "cell_type": "markdown",
   "metadata": {},
   "source": [
    "### Task 3\n",
    "Define another method for the Point class such that it returns *the area of the circle with the radius (x - y)*. You may need to look into the **math** package for the value of *pi*."
   ]
  },
  {
   "cell_type": "code",
   "execution_count": null,
   "metadata": {},
   "outputs": [],
   "source": [
    "import math \n",
    "\n",
    "def area_of_circle(self):\n",
    "    # Return the area of a circle with the radius (x-y)"
   ]
  },
  {
   "cell_type": "markdown",
   "metadata": {},
   "source": [
    "### Task 4\n",
    "We want to keep track of the number of Point objects that have been created. Define a **class variable** for the Point class which will be updated whenever a new Point object is created. You should also define a method that will return the number of Point objects created."
   ]
  },
  {
   "cell_type": "code",
   "execution_count": null,
   "metadata": {
    "collapsed": true
   },
   "outputs": [],
   "source": [
    "# Your solution goes here"
   ]
  },
  {
   "cell_type": "markdown",
   "metadata": {},
   "source": [
    "Test your solution by creating a few Point objects. "
   ]
  },
  {
   "cell_type": "markdown",
   "metadata": {},
   "source": [
    "### Task 5\n",
    "Create another class called **Point3D**, which performs all the operations of the Point class on three dimensional points. Instead of area of a circle, include the function *area of a sphere* based on the following formula:\n",
    "\n",
    "    area of sphere = 4 * pi * r^2\n",
    "    \n",
    "where r is the distance of the point from the origin.\n",
    "    "
   ]
  },
  {
   "cell_type": "code",
   "execution_count": null,
   "metadata": {
    "collapsed": true
   },
   "outputs": [],
   "source": [
    "# Your solution goes here"
   ]
  },
  {
   "cell_type": "markdown",
   "metadata": {},
   "source": [
    "## Part 2: Designing Tic-Tac-Toe \n",
    "Tic-Tac-Toe is played between two players in a 3x3 grid. The player who puts three crosses or noughts in a row, column or diagonal wins. For more information you can have a look at this [link](https://en.wikipedia.org/wiki/Tic-tac-toe).\n",
    "\n",
    "As part of this exercise, you will design a simple Tic-Tac-Toe game. The game will be played between two human players and not with the computer itself. That means that there is no need to write a sophisticated artifically intelligent class here.\n",
    "\n",
    "### Task 1\n",
    "How would you represent the game and how many functions you may need? You should identify which data type is suitable for representing the grid."
   ]
  },
  {
   "cell_type": "markdown",
   "metadata": {},
   "source": [
    "### Task 2\n",
    "Implement your solution here and also test it using PyCharm (or some other Python IDEs). Show your program to your demonstrator once it is working."
   ]
  },
  {
   "cell_type": "code",
   "execution_count": null,
   "metadata": {
    "collapsed": true
   },
   "outputs": [],
   "source": [
    "# Your solution goes here"
   ]
  },
  {
   "cell_type": "markdown",
   "metadata": {},
   "source": [
    "## Part 3: Design Exercise \n",
    "\n",
    "For the description given below, identify the classes you will create along with their **instance variables and methods**. \n",
    "\n",
    "Imagine you operate a call center with three levels of employees: _respondent_, _manager_ and _director_. An incoming telephone call must be allocated to a respondent who is free. If the respondent is not able to handle the call, he or she must escalate the call to a manager. If the manager is not free or not able to handle it, then the call should be escalated to a director. Design the classes, data types, and data structures required for this problem. (This task is adapted from  *Cracking The Code Interview, 5th edition*.)\n",
    "\n",
    "**Note that there are no right and wrong answers for this question.**"
   ]
  }
 ],
 "metadata": {
  "anaconda-cloud": {},
  "kernelspec": {
   "display_name": "Python 3",
   "language": "python",
   "name": "python3"
  },
  "language_info": {
   "codemirror_mode": {
    "name": "ipython",
    "version": 3
   },
   "file_extension": ".py",
   "mimetype": "text/x-python",
   "name": "python",
   "nbconvert_exporter": "python",
   "pygments_lexer": "ipython3",
   "version": "3.7.2"
  }
 },
 "nbformat": 4,
 "nbformat_minor": 1
}
