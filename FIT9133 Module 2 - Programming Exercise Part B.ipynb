{
 "cells": [
  {
   "cell_type": "markdown",
   "metadata": {},
   "source": [
    "# FIT9133 Module 2: Programming Exercise Part B\n",
    "This exercise leads directly on from the ** Part A** of the programming exercises last week, and continues to improve the analysis program through the introduction of **Tuples**, **Sets**, and **Dictionaries**. As with the previous exercise, please run all code in order to allow for the Jupyter Notebook to work, and feel free to go back and edit to try out new techiques. (Also, you should also run the code practiced here with PyCharm.)\n",
    "\n",
    "As a reminder, here is the sample completed code from Module 2 Programming Exercise Part A."
   ]
  },
  {
   "cell_type": "code",
   "execution_count": null,
   "metadata": {
    "collapsed": false
   },
   "outputs": [],
   "source": [
    "list_of_strings = [\"This unit teaches code\", \"Code that will be useful soon\", \"Let me try this out\"]\n",
    "\n",
    "haiku = list_of_strings[0] + '\\n' + list_of_strings[1] + '\\n' + list_of_strings[2]\n",
    "\n",
    "items = ['a','b','c','d','e','f','g','h','i','j','k','l','m','n','o','p','q','r','s','t','u','v','w','x','y','z']\n",
    "\n",
    "count = [0] * 26\n",
    "\n",
    "for character in haiku:\n",
    "    if character.lower() in items:\n",
    "        count[items.index(character.lower())] += 1"
   ]
  },
  {
   "cell_type": "markdown",
   "metadata": {},
   "source": [
    "The use of **for** loops was explored in the previous excercise in the form of the examples provided. Recall that the final section of the above program counts each instance of the characters in the string **haiku**. Loop structures, from this point onwards, should start to become familiar as more examples are used to move over many items."
   ]
  },
  {
   "cell_type": "markdown",
   "metadata": {
    "collapsed": true
   },
   "source": [
    "## Part 1: Upgrading to a Dictionary\n",
    "\n",
    "As a few would have realised by now, the **Dictionary** data type would be suitable for the operations attempting to be conducted in this \"haiku\" program. Thus, an upgrade is needed. Looking back on the previous notes, there is a technique that can be used to *convert a List to Dictionary* using **Tuple** as an intermediate type. Referring to **Section 2.2.4 on Alexandria**, try to complete the code below. Note that your *key* will be the character, and the *value* will be the count of each character."
   ]
  },
  {
   "cell_type": "code",
   "execution_count": null,
   "metadata": {
    "collapsed": false
   },
   "outputs": [],
   "source": [
    "# This will need to be overwritten with a new dictionary after \"zipped_haiku\" is defined\n",
    "dictionary = {}\n",
    "\n",
    "# This is where you zip the two lists together\n",
    "zipped_haiku = []\n",
    "\n",
    "# This should give the count of 2 for the character 'a'\n",
    "print(dictionary['a'])"
   ]
  },
  {
   "cell_type": "markdown",
   "metadata": {},
   "source": [
    "This allows for the count of each character to be updated rather easily rather than having to use a *search* to find the index for two lists. In fact, using the above list for **items**, a new dictionary can be created storing the instances of characters in another piece of writing. Go find a favourite quote or passage and use the technique above to create a new dictionary below."
   ]
  },
  {
   "cell_type": "code",
   "execution_count": null,
   "metadata": {
    "collapsed": false
   },
   "outputs": [],
   "source": [
    "items = ['a','b','c','d','e','f','g','h','i','j','k','l','m','n','o','p','q','r','s','t','u','v','w','x','y','z']\n",
    "count = [0] * 26\n",
    "\n",
    "your_quote = \"PASTE YOUR QUOTE/PASSAGE HERE\"\n",
    "\n",
    "for character in your_quote:\n",
    "    if character.lower() in items:\n",
    "        count[items.index(character.lower())] += 1\n",
    "\n",
    "zipped_tuple = zip(items, count)\n",
    "\n",
    "new_dictionary = dict(list(zipped_tuple))"
   ]
  },
  {
   "cell_type": "markdown",
   "metadata": {},
   "source": [
    "Print out **new_dictionary** and observe the number of occurrence for each character. "
   ]
  },
  {
   "cell_type": "markdown",
   "metadata": {},
   "source": [
    "## Part 2: Analysing the Texts\n",
    "\n",
    "Having setting up the dictionaries, we can now start to analyse the two texts. In order to do this, two **Sets** should be created using the two **Dictionaries** defined in Part 1. To accomplish this, you will need two loops (i.e. one for each dictionary) that adds a character to the set if there is at least one instance present."
   ]
  },
  {
   "cell_type": "code",
   "execution_count": null,
   "metadata": {
    "collapsed": false
   },
   "outputs": [],
   "source": [
    "haiku_set = set()\n",
    "\n",
    "your_set = set()\n",
    "\n",
    "for character in items:\n",
    "    # Your code here to make a set for haiku\n",
    "    # Be sure to duplicate it for your_set as well\n",
    "    # There is a more efficient way using one loop however..."
   ]
  },
  {
   "cell_type": "markdown",
   "metadata": {},
   "source": [
    "Using the two sets, run the code below which will conduct a few tests to find the comparison between the two texts. After you have done, try with two other texts to see if there is any difference, or even add in more tests. It may be more useful to change how the sets are created by putting a threshold on when the characters are added (such as characters that appear more than 10 times, or appear exactly 5 times, etc). While this may not derive direct results, it is an example of how data can be turned into useful information through code."
   ]
  },
  {
   "cell_type": "code",
   "execution_count": null,
   "metadata": {
    "collapsed": false
   },
   "outputs": [],
   "source": [
    "set_1 = haiku_set\n",
    "set_2 = your_set\n",
    "\n",
    "# Check if set 1 is a subset of set 2\n",
    "if set_1 <= set_2:\n",
    "    \n",
    "    # Check if set 1 is a pure subset of set 2\n",
    "    if set_1 < set_2:\n",
    "        print(\"All characters in Set 1 are in Set 2, but not every character in Set 2 is in Set 1.\") \n",
    "        print(\"The extra characters in Set 2 are:\")\n",
    "        print(set_2.difference(set_1))\n",
    "        \n",
    "    # If not a pure subset, then set 1 is a normal subset\n",
    "    else:\n",
    "        print(\"All characters in Set 1 are in Set 2.\")\n",
    "        \n",
    "# Set 1 is not a subset of set 2\n",
    "else:\n",
    "    print(\"Not all characters in Set 1 are in Set 2.\") \n",
    "    print(\"Characters in Set 1 that are not in Set 2 are:\")\n",
    "    print(set_1.difference(set_2))\n",
    "    \n",
    "# Same as above but doing the reversed\n",
    "if set_1 >= set_2:\n",
    "    if set_1 > set_2:\n",
    "        print(\"All characters in Set 2 are in Set 1, but not every character in Set 1 is in Set 2.\")\n",
    "        print(\"The extra characters in Set 1 are:\")\n",
    "        print(set_1 - set_2)\n",
    "    else:\n",
    "        print(\"All characters in Set 2 are in Set 1.\")\n",
    "else:\n",
    "    print(\"Not all characters in Set 2 are in Set 1.\")\n",
    "    print(\"Characters in Set 2 that are not in Set 1 are:\")\n",
    "    print(set_2 - set_1)\n",
    "    \n",
    "# Place some more analysis here. Try more of the techniques from Section 2.2.3 on Alexandria. \n",
    "# See what kind of conclusions you can draw."
   ]
  },
  {
   "cell_type": "markdown",
   "metadata": {},
   "source": [
    "**Afterthought:** Now while analysis of individual characters may seem trivial, these elements could be easily replaced by individual words, or could represent genetic traits in some code. It is a simple example to get you started thinking about the possibilities of these data types. The last data type that was not explicitly used in this activity is Tuples. Have a think about what you know about the **Tuple** data type and think about how it can be applied to this analysis that was investigated. Share your ideas with your peers in class."
   ]
  }
 ],
 "metadata": {
  "anaconda-cloud": {},
  "kernelspec": {
   "display_name": "Python [default]",
   "language": "python",
   "name": "python3"
  },
  "language_info": {
   "codemirror_mode": {
    "name": "ipython",
    "version": 3
   },
   "file_extension": ".py",
   "mimetype": "text/x-python",
   "name": "python",
   "nbconvert_exporter": "python",
   "pygments_lexer": "ipython3",
   "version": "3.5.2"
  }
 },
 "nbformat": 4,
 "nbformat_minor": 1
}
