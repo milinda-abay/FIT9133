{
 "cells": [
  {
   "cell_type": "markdown",
   "metadata": {},
   "source": [
    "# FIT9133 Module 1: Programming Exercise  Part B\n",
    "\n",
    "You will be developing simple Python programs based upon your knowledge of **arithmetic and logical operators**. All exercises below have comments to assist you with the program logic."
   ]
  },
  {
   "cell_type": "markdown",
   "metadata": {},
   "source": [
    "## Part 1: Inch to Feet Converter\n",
    "This program converts inches into feets. It takes input from the user and uses the formula below for conversion. \n",
    "\n",
    "    feet = inches / 12 \n",
    "    \n",
    "For instance, to convert 6 inches to a measurement in feet, the formula would be **6 / 12 = 0.5 feet**. "
   ]
  },
  {
   "cell_type": "code",
   "execution_count": null,
   "metadata": {
    "collapsed": true
   },
   "outputs": [],
   "source": [
    "# Your solution goes here\n",
    "# Define two variables: one for storing the input and one for the output.\n",
    "\n",
    "\n",
    "# Prompt the user for the input.\n",
    "\n",
    "\n",
    "# Convert feet to inches.\n",
    "\n",
    "\n",
    "# Print the result as \"<input> inches is equal to <output> feets\".\n"
   ]
  },
  {
   "cell_type": "markdown",
   "metadata": {},
   "source": [
    "## Part 2: Fahrenheit to Celsius Converter"
   ]
  },
  {
   "cell_type": "markdown",
   "metadata": {},
   "source": [
    "This program converts Fahrenheit into Celsius. It takes input from the user and uses the formula below for conversion.\n",
    "\n",
    "    celsius = 5/9 * (fahrenheit - 32) \n",
    "    \n",
    "For instance, to convert 32 Fahrenheit to a measurement in Celsius, the formula would be **5 / 9 * (32 - 32) = 0**."
   ]
  },
  {
   "cell_type": "code",
   "execution_count": null,
   "metadata": {
    "collapsed": true
   },
   "outputs": [],
   "source": [
    "# Your solution goes here\n",
    "# Define two variables: one for storing the input and one for the output.\n",
    "\n",
    "\n",
    "# Prompt the user for the input.\n",
    "\n",
    "\n",
    "# Convert Fahrenheit to Celsuis.\n",
    "\n",
    "\n",
    "# Print the result as \"<input> Fahrenheit is equal to <output> Celsius\".\n"
   ]
  },
  {
   "cell_type": "markdown",
   "metadata": {},
   "source": [
    "## Part 3: Simple Calculator"
   ]
  },
  {
   "cell_type": "markdown",
   "metadata": {},
   "source": [
    "In this exercise, you will be making a simple calculator. The program will take three inputs, two operands and an operator. It will then print the output on the terminal screen. You are required to fill in _the missing code_ in the program below:"
   ]
  },
  {
   "cell_type": "code",
   "execution_count": null,
   "metadata": {
    "collapsed": false
   },
   "outputs": [],
   "source": [
    "# Define variables for the operands and operator; and initialise them with some suitable values.\n",
    "result = 0 # Result is assigned to this variable\n",
    "\n",
    "# Prompt for user input for the operator. The input can be add, sub, div, mul.\n",
    "\n",
    "\n",
    "# Prompt for user input for both operands. ***Hint: you need typecasting***\n",
    "\n",
    "\n",
    "# Apply the operator and store the result in a variable.\n",
    "if  <your statement goes here> : # What logical operator would you apply over here?\n",
    "                                 # Write Your statement between if and the colon.\n",
    "    result =  # What arithmetic operator would you apply?\n",
    "elif: # Apply a logical operator over here\n",
    "    result =  # Apply an arithmetic operator over here\n",
    "elif: # Apply a logical operator over here\n",
    "    result = # Apply an arithmetic operator over here\n",
    "elif: # Apply a logical operator over here\n",
    "    result = # Apply an arithmetic operator over here\n",
    "else:\n",
    "    result = None\n",
    "\n",
    "# Print the result\n",
    "if result != None:\n",
    "    # Write the print statement here as \"The output is <result>\". ***Hint: you need typecasting***\n",
    "else:\n",
    "    print(\"Invalid operator!\")"
   ]
  },
  {
   "cell_type": "markdown",
   "metadata": {
    "collapsed": true
   },
   "source": [
    "## Part 4: Practice with PyCharm"
   ]
  },
  {
   "cell_type": "markdown",
   "metadata": {},
   "source": [
    "You should practice running one of the three programs above by using PyCharm. Before leaving the lab, you should demonstrate to your tutor that the program is running on PyCharm."
   ]
  }
 ],
 "metadata": {
  "anaconda-cloud": {},
  "kernelspec": {
   "display_name": "Python [default]",
   "language": "python",
   "name": "python3"
  },
  "language_info": {
   "codemirror_mode": {
    "name": "ipython",
    "version": 3
   },
   "file_extension": ".py",
   "mimetype": "text/x-python",
   "name": "python",
   "nbconvert_exporter": "python",
   "pygments_lexer": "ipython3",
   "version": "3.5.2"
  }
 },
 "nbformat": 4,
 "nbformat_minor": 0
}
