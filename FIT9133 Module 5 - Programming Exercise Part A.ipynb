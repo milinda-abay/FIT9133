{
 "cells": [
  {
   "cell_type": "markdown",
   "metadata": {},
   "source": [
    "# FIT9133 Module 5: Programming Exercise Part A\n",
    "\n",
    "This first part of the programming activity explores the concept of **file handling**, in particular the operations of reading and writing files. The exercises below will require you to read some data from a file, manipulate it and write it back to the file. Comments have been added where necessary to assist you with the program development.\n"
   ]
  },
  {
   "cell_type": "markdown",
   "metadata": {},
   "source": [
    "## Part 1: Basic File Operations\n",
    "\n",
    "Open the text file `simple_file.txt`. Each row in the file contains three pieces of value. The first two are numerical but the third one is a string representing a number. For example,  one such entry is \"1 2 five\". Your task is to read in the data; and if a number is written as a string, convert it to a number written as digits. For example after the manipulation, the output will be \"1 2 5\" for the given example. Write the result back into a file named `output_file.txt`.\n",
    "\n",
    "(**Note:** for the purpose of this exercise, the third column can only take values between 1 and 5 inclusive.) "
   ]
  },
  {
   "cell_type": "code",
   "execution_count": null,
   "metadata": {
    "collapsed": true
   },
   "outputs": [],
   "source": [
    "# Your solution for Part 1 goes here\n",
    "\n",
    "# Open simple_file.txt for reading\n",
    "\n",
    "# Open output_file.txt for writing\n",
    "\n",
    "# Perform some data processing\n",
    "\n",
    "# Close both files after processing\n"
   ]
  },
  {
   "cell_type": "markdown",
   "metadata": {},
   "source": [
    "## Part 2: Student Information System\n",
    "\n",
    "Your are provided with two text files. The file named `student_data.txt` contains information about students. Each record contains the student ID, the name, and the campus where the student is registered as follow:\n",
    "\n",
    "    1,tom,clayton\n",
    "    2,alex,caulfield\n",
    "\n",
    "The other file is called `enrollment.txt`. It contains the units in which the student is enrolled. A student can enrol in multiple units. Part of the file is shown below. Each record contains the student ID followed by the unit name:\n",
    "\n",
    "    1 mathematics\n",
    "    1 english\n",
    "    2 programming\n",
    "    3 mathematics\n",
    "    3 physics\n",
    "\n",
    "Your task is to build a basic query system. The system will first prompt the user for a student name. Then, verify that the student is present in the system. If the student exists in the system, display the units that he or she is enrolled."
   ]
  },
  {
   "cell_type": "code",
   "execution_count": null,
   "metadata": {
    "collapsed": true
   },
   "outputs": [],
   "source": [
    "# Your solution for Part 2 goes here\n",
    "\n",
    "# Open both files for reading\n",
    "\n",
    "# Perform some data processing\n",
    "\n",
    "# Close both files after processing\n"
   ]
  },
  {
   "cell_type": "markdown",
   "metadata": {},
   "source": [
    "## Part 3: Distance-Time Graph\n",
    "\n",
    "You have been provided with the text file `velocity_data.txt`. Each of its records contains the _velocity_ of the car at some particular time, where the first column denotes the time unit and the second column indicates the velocity. First, use this information to calculate the _distance_ by using the formula below:\n",
    "\n",
    "    distance = speed * time\n",
    "    \n",
    "Then, with this information, draw a **graph** between distance and time. (**Note:** you will have to import `pyplot` from the `matplotlib` library.)\n"
   ]
  },
  {
   "cell_type": "code",
   "execution_count": null,
   "metadata": {
    "collapsed": true
   },
   "outputs": [],
   "source": [
    "# Your solution for Part 3 goes here\n",
    "\n",
    "import matplotlib.pyplot as plt\n",
    "%matplotlib inline\n",
    "\n",
    "# Open data.txt for reading\n",
    "\n",
    "# Perform some data processing \n",
    "\n",
    "# Plot the graph between distance and time\n",
    "\n",
    "# Close the file after processing\n"
   ]
  }
 ],
 "metadata": {
  "anaconda-cloud": {},
  "kernelspec": {
   "display_name": "Python [default]",
   "language": "python",
   "name": "python3"
  },
  "language_info": {
   "codemirror_mode": {
    "name": "ipython",
    "version": 3
   },
   "file_extension": ".py",
   "mimetype": "text/x-python",
   "name": "python",
   "nbconvert_exporter": "python",
   "pygments_lexer": "ipython3",
   "version": "3.5.2"
  }
 },
 "nbformat": 4,
 "nbformat_minor": 0
}
